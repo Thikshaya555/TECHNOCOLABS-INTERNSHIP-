{
 "cells": [
  {
   "cell_type": "code",
   "execution_count": 3,
   "metadata": {},
   "outputs": [],
   "source": [
    "import pandas as pd\n",
    "import numpy as np\n",
    "import seaborn as sns\n",
    "import matplotlib.pyplot as plt\n",
    "import matplotlib as mpl\n"
   ]
  },
  {
   "cell_type": "code",
   "execution_count": 2,
   "metadata": {},
   "outputs": [
    {
     "name": "stdout",
     "output_type": "stream",
     "text": [
      "Collecting seaborn\n",
      "  Downloading seaborn-0.11.0-py3-none-any.whl (283 kB)\n",
      "\u001b[K     |████████████████████████████████| 283 kB 111 kB/s eta 0:00:01\n",
      "\u001b[?25hRequirement already satisfied: numpy>=1.15 in ./my_project1_env/lib/python3.6/site-packages (from seaborn) (1.19.2)\n",
      "Requirement already satisfied: pandas>=0.23 in ./my_project1_env/lib/python3.6/site-packages (from seaborn) (1.1.2)\n",
      "Requirement already satisfied: scipy>=1.0 in ./my_project1_env/lib/python3.6/site-packages (from seaborn) (1.5.2)\n",
      "Requirement already satisfied: matplotlib>=2.2 in ./my_project1_env/lib/python3.6/site-packages (from seaborn) (3.3.2)\n",
      "Requirement already satisfied: pytz>=2017.2 in ./my_project1_env/lib/python3.6/site-packages (from pandas>=0.23->seaborn) (2020.1)\n",
      "Requirement already satisfied: python-dateutil>=2.7.3 in ./my_project1_env/lib/python3.6/site-packages (from pandas>=0.23->seaborn) (2.8.1)\n",
      "Requirement already satisfied: certifi>=2020.06.20 in ./my_project1_env/lib/python3.6/site-packages (from matplotlib>=2.2->seaborn) (2020.6.20)\n",
      "Requirement already satisfied: cycler>=0.10 in ./my_project1_env/lib/python3.6/site-packages (from matplotlib>=2.2->seaborn) (0.10.0)\n",
      "Requirement already satisfied: pyparsing!=2.0.4,!=2.1.2,!=2.1.6,>=2.0.3 in ./my_project1_env/lib/python3.6/site-packages (from matplotlib>=2.2->seaborn) (2.4.7)\n",
      "Requirement already satisfied: kiwisolver>=1.0.1 in ./my_project1_env/lib/python3.6/site-packages (from matplotlib>=2.2->seaborn) (1.2.0)\n",
      "Requirement already satisfied: pillow>=6.2.0 in ./my_project1_env/lib/python3.6/site-packages (from matplotlib>=2.2->seaborn) (7.2.0)\n",
      "Requirement already satisfied: six>=1.5 in ./my_project1_env/lib/python3.6/site-packages (from python-dateutil>=2.7.3->pandas>=0.23->seaborn) (1.15.0)\n",
      "Installing collected packages: seaborn\n",
      "Successfully installed seaborn-0.11.0\n",
      "Note: you may need to restart the kernel to use updated packages.\n"
     ]
    }
   ],
   "source": [
    "pip install seaborn"
   ]
  },
  {
   "cell_type": "code",
   "execution_count": 4,
   "metadata": {},
   "outputs": [],
   "source": [
    "df = pd.read_csv('cleaned_data.csv')"
   ]
  },
  {
   "cell_type": "code",
   "execution_count": 5,
   "metadata": {},
   "outputs": [],
   "source": [
    "features_response = ['LIMIT_BAL', 'EDUCATION', 'MARRIAGE', 'AGE', 'PAY_1', 'BILL_AMT1', 'BILL_AMT2','BILL_AMT3', 'BILL_AMT4', 'BILL_AMT5', 'BILL_AMT6', 'PAY_AMT1','PAY_AMT2', 'PAY_AMT3', 'PAY_AMT4', 'PAY_AMT5', 'PAY_AMT6', 'default payment next month']"
   ]
  },
  {
   "cell_type": "code",
   "execution_count": 6,
   "metadata": {},
   "outputs": [
    {
     "data": {
      "text/html": [
       "<div>\n",
       "<style scoped>\n",
       "    .dataframe tbody tr th:only-of-type {\n",
       "        vertical-align: middle;\n",
       "    }\n",
       "\n",
       "    .dataframe tbody tr th {\n",
       "        vertical-align: top;\n",
       "    }\n",
       "\n",
       "    .dataframe thead th {\n",
       "        text-align: right;\n",
       "    }\n",
       "</style>\n",
       "<table border=\"1\" class=\"dataframe\">\n",
       "  <thead>\n",
       "    <tr style=\"text-align: right;\">\n",
       "      <th></th>\n",
       "      <th>LIMIT_BAL</th>\n",
       "      <th>EDUCATION</th>\n",
       "      <th>MARRIAGE</th>\n",
       "      <th>AGE</th>\n",
       "      <th>PAY_1</th>\n",
       "    </tr>\n",
       "  </thead>\n",
       "  <tbody>\n",
       "    <tr>\n",
       "      <th>LIMIT_BAL</th>\n",
       "      <td>1.000000</td>\n",
       "      <td>-0.232688</td>\n",
       "      <td>-0.111873</td>\n",
       "      <td>0.149157</td>\n",
       "      <td>-0.273396</td>\n",
       "    </tr>\n",
       "    <tr>\n",
       "      <th>EDUCATION</th>\n",
       "      <td>-0.232688</td>\n",
       "      <td>1.000000</td>\n",
       "      <td>-0.137097</td>\n",
       "      <td>0.179035</td>\n",
       "      <td>0.112653</td>\n",
       "    </tr>\n",
       "    <tr>\n",
       "      <th>MARRIAGE</th>\n",
       "      <td>-0.111873</td>\n",
       "      <td>-0.137097</td>\n",
       "      <td>1.000000</td>\n",
       "      <td>-0.412828</td>\n",
       "      <td>0.019759</td>\n",
       "    </tr>\n",
       "    <tr>\n",
       "      <th>AGE</th>\n",
       "      <td>0.149157</td>\n",
       "      <td>0.179035</td>\n",
       "      <td>-0.412828</td>\n",
       "      <td>1.000000</td>\n",
       "      <td>-0.044277</td>\n",
       "    </tr>\n",
       "    <tr>\n",
       "      <th>PAY_1</th>\n",
       "      <td>-0.273396</td>\n",
       "      <td>0.112653</td>\n",
       "      <td>0.019759</td>\n",
       "      <td>-0.044277</td>\n",
       "      <td>1.000000</td>\n",
       "    </tr>\n",
       "  </tbody>\n",
       "</table>\n",
       "</div>"
      ],
      "text/plain": [
       "           LIMIT_BAL  EDUCATION  MARRIAGE       AGE     PAY_1\n",
       "LIMIT_BAL   1.000000  -0.232688 -0.111873  0.149157 -0.273396\n",
       "EDUCATION  -0.232688   1.000000 -0.137097  0.179035  0.112653\n",
       "MARRIAGE   -0.111873  -0.137097  1.000000 -0.412828  0.019759\n",
       "AGE         0.149157   0.179035 -0.412828  1.000000 -0.044277\n",
       "PAY_1      -0.273396   0.112653  0.019759 -0.044277  1.000000"
      ]
     },
     "execution_count": 6,
     "metadata": {},
     "output_type": "execute_result"
    }
   ],
   "source": [
    "#corr() function calculates the correlation btw the 2 variablesbased on pearson method\n",
    "#the value ranges btw negative to positive\n",
    "#if the value is negative(it says that if one value increases other decreases)\n",
    "#if positive (it says that if one increases other increases)\n",
    "#formula to find correlation using pearson is r=n summation(xy) - summation (x)(summation(y))/nsummation(x^2)-summation(x)^2[Nsummation(y)^2-(summationy)^2]\n",
    "corr = df[features_response].corr()\n",
    "corr.iloc[0:5,0:5]"
   ]
  },
  {
   "cell_type": "code",
   "execution_count": 7,
   "metadata": {},
   "outputs": [
    {
     "data": {
      "image/png": "[encoded data removed]",
      "text/plain": [
       "<Figure size 600x400 with 2 Axes>"
      ]
     },
     "metadata": {
      "needs_background": "light"
     },
     "output_type": "display_data"
    }
   ],
   "source": [
    "#heatmaps are used to make visualizations from the corr() \n",
    "#from heatmaps we can come to know which features are highly correlated(i.e associated with each other) \n",
    "#if variable has high correlation then it is best to be selected for prediction\n",
    "#pay_1 and limit_bal is best to be selected for prediction\n",
    "plt.figure(dpi=100)\n",
    "sns.heatmap(corr, \n",
    "            xticklabels=corr.columns.values,\n",
    "            yticklabels=corr.columns.values,\n",
    "            center=0)\n",
    "plt.show()"
   ]
  },
  {
   "cell_type": "code",
   "execution_count": 8,
   "metadata": {},
   "outputs": [
    {
     "name": "stdout",
     "output_type": "stream",
     "text": [
      "(26664, 17) (26664,)\n"
     ]
    }
   ],
   "source": [
    "#to perform the anova F-test\n",
    "X = df[features_response].iloc[:,:-1].values\n",
    "y = df[features_response].iloc[:,-1].values\n",
    "print(X.shape, y.shape)"
   ]
  },
  {
   "cell_type": "code",
   "execution_count": 15,
   "metadata": {},
   "outputs": [],
   "source": [
    "#ANOVA F-TEST are used to find which are the parameters that are vital in building model\n",
    "#F(named by a person called fisher)=variation btw sample means / variation within samples\n",
    "#we perform analysis of variance (if the group mean is clustered close to overall mean then variance is low)\n",
    "#if group mean is clustered far from group mean varaince is high\n",
    "#f_classif is the functon used for performing the ANOVA F-test\n",
    "#it returns the p value and f_stat for each value\n",
    "#it is used for feature selection\n",
    "from sklearn.feature_selection import f_classif\n",
    "[f_stat, f_p_value] = f_classif(X, y)\n"
   ]
  },
  {
   "cell_type": "code",
   "execution_count": 16,
   "metadata": {},
   "outputs": [
    {
     "data": {
      "text/html": [
       "<div>\n",
       "<style scoped>\n",
       "    .dataframe tbody tr th:only-of-type {\n",
       "        vertical-align: middle;\n",
       "    }\n",
       "\n",
       "    .dataframe tbody tr th {\n",
       "        vertical-align: top;\n",
       "    }\n",
       "\n",
       "    .dataframe thead th {\n",
       "        text-align: right;\n",
       "    }\n",
       "</style>\n",
       "<table border=\"1\" class=\"dataframe\">\n",
       "  <thead>\n",
       "    <tr style=\"text-align: right;\">\n",
       "      <th></th>\n",
       "      <th>Feature</th>\n",
       "      <th>F statistic</th>\n",
       "      <th>p value</th>\n",
       "    </tr>\n",
       "  </thead>\n",
       "  <tbody>\n",
       "    <tr>\n",
       "      <th>4</th>\n",
       "      <td>PAY_1</td>\n",
       "      <td>3156.672300</td>\n",
       "      <td>0.000000e+00</td>\n",
       "    </tr>\n",
       "    <tr>\n",
       "      <th>0</th>\n",
       "      <td>LIMIT_BAL</td>\n",
       "      <td>651.324071</td>\n",
       "      <td>5.838366e-142</td>\n",
       "    </tr>\n",
       "    <tr>\n",
       "      <th>11</th>\n",
       "      <td>PAY_AMT1</td>\n",
       "      <td>140.612679</td>\n",
       "      <td>2.358354e-32</td>\n",
       "    </tr>\n",
       "    <tr>\n",
       "      <th>12</th>\n",
       "      <td>PAY_AMT2</td>\n",
       "      <td>101.408321</td>\n",
       "      <td>8.256124e-24</td>\n",
       "    </tr>\n",
       "    <tr>\n",
       "      <th>13</th>\n",
       "      <td>PAY_AMT3</td>\n",
       "      <td>90.023873</td>\n",
       "      <td>2.542641e-21</td>\n",
       "    </tr>\n",
       "    <tr>\n",
       "      <th>15</th>\n",
       "      <td>PAY_AMT5</td>\n",
       "      <td>85.843295</td>\n",
       "      <td>2.090120e-20</td>\n",
       "    </tr>\n",
       "    <tr>\n",
       "      <th>16</th>\n",
       "      <td>PAY_AMT6</td>\n",
       "      <td>80.420784</td>\n",
       "      <td>3.219565e-19</td>\n",
       "    </tr>\n",
       "    <tr>\n",
       "      <th>14</th>\n",
       "      <td>PAY_AMT4</td>\n",
       "      <td>79.640021</td>\n",
       "      <td>4.774112e-19</td>\n",
       "    </tr>\n",
       "    <tr>\n",
       "      <th>1</th>\n",
       "      <td>EDUCATION</td>\n",
       "      <td>32.637768</td>\n",
       "      <td>1.122175e-08</td>\n",
       "    </tr>\n",
       "    <tr>\n",
       "      <th>2</th>\n",
       "      <td>MARRIAGE</td>\n",
       "      <td>18.078027</td>\n",
       "      <td>2.127555e-05</td>\n",
       "    </tr>\n",
       "    <tr>\n",
       "      <th>5</th>\n",
       "      <td>BILL_AMT1</td>\n",
       "      <td>11.218406</td>\n",
       "      <td>8.110226e-04</td>\n",
       "    </tr>\n",
       "    <tr>\n",
       "      <th>7</th>\n",
       "      <td>BILL_AMT3</td>\n",
       "      <td>5.722938</td>\n",
       "      <td>1.675157e-02</td>\n",
       "    </tr>\n",
       "    <tr>\n",
       "      <th>6</th>\n",
       "      <td>BILL_AMT2</td>\n",
       "      <td>5.668454</td>\n",
       "      <td>1.727965e-02</td>\n",
       "    </tr>\n",
       "    <tr>\n",
       "      <th>3</th>\n",
       "      <td>AGE</td>\n",
       "      <td>5.479140</td>\n",
       "      <td>1.925206e-02</td>\n",
       "    </tr>\n",
       "    <tr>\n",
       "      <th>8</th>\n",
       "      <td>BILL_AMT4</td>\n",
       "      <td>3.434740</td>\n",
       "      <td>6.384965e-02</td>\n",
       "    </tr>\n",
       "    <tr>\n",
       "      <th>9</th>\n",
       "      <td>BILL_AMT5</td>\n",
       "      <td>1.216082</td>\n",
       "      <td>2.701409e-01</td>\n",
       "    </tr>\n",
       "    <tr>\n",
       "      <th>10</th>\n",
       "      <td>BILL_AMT6</td>\n",
       "      <td>1.049561</td>\n",
       "      <td>3.056176e-01</td>\n",
       "    </tr>\n",
       "  </tbody>\n",
       "</table>\n",
       "</div>"
      ],
      "text/plain": [
       "      Feature  F statistic        p value\n",
       "4       PAY_1  3156.672300   0.000000e+00\n",
       "0   LIMIT_BAL   651.324071  5.838366e-142\n",
       "11   PAY_AMT1   140.612679   2.358354e-32\n",
       "12   PAY_AMT2   101.408321   8.256124e-24\n",
       "13   PAY_AMT3    90.023873   2.542641e-21\n",
       "15   PAY_AMT5    85.843295   2.090120e-20\n",
       "16   PAY_AMT6    80.420784   3.219565e-19\n",
       "14   PAY_AMT4    79.640021   4.774112e-19\n",
       "1   EDUCATION    32.637768   1.122175e-08\n",
       "2    MARRIAGE    18.078027   2.127555e-05\n",
       "5   BILL_AMT1    11.218406   8.110226e-04\n",
       "7   BILL_AMT3     5.722938   1.675157e-02\n",
       "6   BILL_AMT2     5.668454   1.727965e-02\n",
       "3         AGE     5.479140   1.925206e-02\n",
       "8   BILL_AMT4     3.434740   6.384965e-02\n",
       "9   BILL_AMT5     1.216082   2.701409e-01\n",
       "10  BILL_AMT6     1.049561   3.056176e-01"
      ]
     },
     "execution_count": 16,
     "metadata": {},
     "output_type": "execute_result"
    }
   ],
   "source": [
    "#creating the datafame for each feature_response variable  with their f statistic and p value \n",
    "#after creating the f_test_df -----it is being sorted using the sort function based on the pvalue\n",
    "f_test_df = pd.DataFrame({'Feature':features_response[:-1],\n",
    "                          'F statistic':f_stat,\n",
    "                          'p value':f_p_value})\n",
    "f_test_df.sort_values('p value')"
   ]
  },
  {
   "cell_type": "code",
   "execution_count": null,
   "metadata": {},
   "outputs": [],
   "source": []
  },
  {
   "cell_type": "code",
   "execution_count": 17,
   "metadata": {},
   "outputs": [
    {
     "data": {
      "text/plain": [
       "SelectPercentile(percentile=20)"
      ]
     },
     "execution_count": 17,
     "metadata": {},
     "output_type": "execute_result"
    }
   ],
   "source": [
    "#select kbest can aslo be used to select the best features from the ANOVA F-TEST\n",
    "#selectpercentile is used only to get 20 percent of the feature\n",
    "\n",
    "from sklearn.feature_selection import SelectPercentile\n",
    "selector = SelectPercentile(f_classif, percentile=20)\n",
    "selector.fit(X, y)"
   ]
  },
  {
   "cell_type": "code",
   "execution_count": 22,
   "metadata": {},
   "outputs": [
    {
     "data": {
      "text/plain": [
       "array([ True, False, False, False,  True, False, False, False, False,\n",
       "       False, False,  True,  True, False, False, False, False])"
      ]
     },
     "execution_count": 22,
     "metadata": {},
     "output_type": "execute_result"
    }
   ],
   "source": [
    "#to get the feature name whose percentile 20 % more than that of the highest score\n",
    "#get_support will give the column names of the feature(it returns the indexes)\n",
    "best_feature_ix = selector.get_support()\n",
    "best_feature_ix"
   ]
  },
  {
   "cell_type": "code",
   "execution_count": 23,
   "metadata": {},
   "outputs": [],
   "source": [
    "features = features_response[:-1]"
   ]
  },
  {
   "cell_type": "code",
   "execution_count": 21,
   "metadata": {},
   "outputs": [
    {
     "data": {
      "text/plain": [
       "['LIMIT_BAL', 'PAY_1', 'PAY_AMT1', 'PAY_AMT2']"
      ]
     },
     "execution_count": 21,
     "metadata": {},
     "output_type": "execute_result"
    }
   ],
   "source": [
    "#to get 20 percent of the best features\n",
    "#using the index array that we created using the get_support() it is to get the best features out of them\n",
    "best_features = [features[counter] for counter in range(len(features))\n",
    "                 if best_feature_ix[counter]]\n",
    "best_features"
   ]
  },
  {
   "cell_type": "code",
   "execution_count": null,
   "metadata": {},
   "outputs": [],
   "source": [
    "#The conclusions we can draw from the DataFrame of F-statistics and p-values are similar to what we observed in the correlation plot: PAY_1 and LIMIT_BAL appear to be the most useful features. They have the smallest p-values, indicating the average values of these features between the positive and negative classes are significantly different, and these features will help predict which class a sample belongs to."
   ]
  },
  {
   "cell_type": "code",
   "execution_count": 24,
   "metadata": {},
   "outputs": [],
   "source": [
    "#PAY_1 AND LIMIT_BAL has the smallest value and they are the best features"
   ]
  },
  {
   "cell_type": "code",
   "execution_count": 25,
   "metadata": {},
   "outputs": [],
   "source": [
    "#visualizing the relation between the features and the response variables"
   ]
  },
  {
   "cell_type": "code",
   "execution_count": 26,
   "metadata": {},
   "outputs": [
    {
     "data": {
      "text/plain": [
       "0.2217971797179718"
      ]
     },
     "execution_count": 26,
     "metadata": {},
     "output_type": "execute_result"
    }
   ],
   "source": [
    "#calculating the mean value of the response variable(default payment next month)\n",
    "overall_default_rate = df['default payment next month'].mean()\n",
    "overall_default_rate"
   ]
  },
  {
   "cell_type": "code",
   "execution_count": 30,
   "metadata": {},
   "outputs": [
    {
     "data": {
      "text/html": [
       "<div>\n",
       "<style scoped>\n",
       "    .dataframe tbody tr th:only-of-type {\n",
       "        vertical-align: middle;\n",
       "    }\n",
       "\n",
       "    .dataframe tbody tr th {\n",
       "        vertical-align: top;\n",
       "    }\n",
       "\n",
       "    .dataframe thead th {\n",
       "        text-align: right;\n",
       "    }\n",
       "</style>\n",
       "<table border=\"1\" class=\"dataframe\">\n",
       "  <thead>\n",
       "    <tr style=\"text-align: right;\">\n",
       "      <th></th>\n",
       "      <th>default payment next month</th>\n",
       "    </tr>\n",
       "    <tr>\n",
       "      <th>PAY_1</th>\n",
       "      <th></th>\n",
       "    </tr>\n",
       "  </thead>\n",
       "  <tbody>\n",
       "    <tr>\n",
       "      <th>-2</th>\n",
       "      <td>0.131664</td>\n",
       "    </tr>\n",
       "    <tr>\n",
       "      <th>-1</th>\n",
       "      <td>0.170002</td>\n",
       "    </tr>\n",
       "    <tr>\n",
       "      <th>0</th>\n",
       "      <td>0.128295</td>\n",
       "    </tr>\n",
       "    <tr>\n",
       "      <th>1</th>\n",
       "      <td>0.336400</td>\n",
       "    </tr>\n",
       "    <tr>\n",
       "      <th>2</th>\n",
       "      <td>0.694701</td>\n",
       "    </tr>\n",
       "    <tr>\n",
       "      <th>3</th>\n",
       "      <td>0.773973</td>\n",
       "    </tr>\n",
       "    <tr>\n",
       "      <th>4</th>\n",
       "      <td>0.682540</td>\n",
       "    </tr>\n",
       "    <tr>\n",
       "      <th>5</th>\n",
       "      <td>0.434783</td>\n",
       "    </tr>\n",
       "    <tr>\n",
       "      <th>6</th>\n",
       "      <td>0.545455</td>\n",
       "    </tr>\n",
       "    <tr>\n",
       "      <th>7</th>\n",
       "      <td>0.777778</td>\n",
       "    </tr>\n",
       "    <tr>\n",
       "      <th>8</th>\n",
       "      <td>0.588235</td>\n",
       "    </tr>\n",
       "  </tbody>\n",
       "</table>\n",
       "</div>"
      ],
      "text/plain": [
       "       default payment next month\n",
       "PAY_1                            \n",
       "-2                       0.131664\n",
       "-1                       0.170002\n",
       " 0                       0.128295\n",
       " 1                       0.336400\n",
       " 2                       0.694701\n",
       " 3                       0.773973\n",
       " 4                       0.682540\n",
       " 5                       0.434783\n",
       " 6                       0.545455\n",
       " 7                       0.777778\n",
       " 8                       0.588235"
      ]
     },
     "execution_count": 30,
     "metadata": {},
     "output_type": "execute_result"
    }
   ],
   "source": [
    "#agg function is used to pass a function name to be called \n",
    "#here we are grouping by the pay_1 and applying the mean function over it on each group\n",
    "group_by_pay_mean_y = df.groupby('PAY_1').agg({'default payment next month':np.mean})\n",
    "group_by_pay_mean_y"
   ]
  },
  {
   "cell_type": "code",
   "execution_count": 31,
   "metadata": {},
   "outputs": [
    {
     "data": {
      "image/png": "[encoded data removed]",
      "text/plain": [
       "<Figure size 432x288 with 1 Axes>"
      ]
     },
     "metadata": {
      "needs_background": "light"
     },
     "output_type": "display_data"
    }
   ],
   "source": [
    "axes = plt.axes()\n",
    "#creating axes object on the axes variable\n",
    "# plotting a red horizontal line on the axes\n",
    "#axhline() is the function in pyplot module of matplotlib libraray is used to add a horizontal line acroos the asxis\n",
    "#the horizontal line indicates the mean valaue of the response variable(default payment next month).mean()\n",
    "#to plot the group by values that are being calculated\n",
    "axes.axhline(overall_default_rate, color = \"red\")\n",
    "\n",
    "group_by_pay_mean_y.plot(marker='x', legend=False, ax=axes)\n",
    "\n",
    "axes.set_ylabel('Proportion of credit defaults')\n",
    "axes.legend(['Entire dataset', 'Groups of PAY_1'])\n",
    "\n",
    "plt.show()"
   ]
  },
  {
   "cell_type": "code",
   "execution_count": null,
   "metadata": {},
   "outputs": [],
   "source": [
    "#Our visualization of payment statuses has revealed a clear, and probably expected, story: those who defaulted before, are in fact more likely to default again. The default rate of accounts in good standing is well below the overall default rate, which we know from before is about 22%. However, at least 30% of the accounts that were in default last month will be in default again next month, according to this. This is a good visual to share with our business partner as it shows the effect of what may be the most important feature in our model."
   ]
  },
  {
   "cell_type": "code",
   "execution_count": 34,
   "metadata": {},
   "outputs": [
    {
     "data": {
      "text/plain": [
       "Text(0.5, 1.0, 'Credit limits by response variable')"
      ]
     },
     "execution_count": 34,
     "metadata": {},
     "output_type": "execute_result"
    },
    {
     "data": {
      "image/png": "[encoded data removed]",
      "text/plain": [
       "<Figure size 432x288 with 1 Axes>"
      ]
     },
     "metadata": {
      "needs_background": "light"
     },
     "output_type": "display_data"
    }
   ],
   "source": [
    "#first 2 steps creating the logical mask for both the varaibles\n",
    "#steps to create the dual histogram\n",
    "pos_mask = y == 1\n",
    "neg_mask = y == 0\n",
    "axes = plt.axes()\n",
    "axes.hist(df.loc[neg_mask, 'LIMIT_BAL'], alpha=0.5, color='blue')\n",
    "axes.hist(df.loc[pos_mask, 'LIMIT_BAL'], alpha=0.5, color='red')\n",
    "axes.tick_params(axis='x', labelrotation=45)\n",
    "axes.set_xlabel('Credit limit (NT$)')\n",
    "axes.set_ylabel('Number of accounts')\n",
    "axes.legend(['Not defaulted', 'Defaulted'])\n",
    "axes.set_title('Credit limits by response variable')"
   ]
  },
  {
   "cell_type": "code",
   "execution_count": null,
   "metadata": {},
   "outputs": [],
   "source": [
    "#After some experimentation, we decide to make a histogram with 16 bins. Since the maximum credit limit is NT$800,000, we use range with an increment of NT$50000"
   ]
  },
  {
   "cell_type": "code",
   "execution_count": 35,
   "metadata": {},
   "outputs": [],
   "source": [
    "#tocreate the bins with 16"
   ]
  },
  {
   "cell_type": "code",
   "execution_count": 36,
   "metadata": {},
   "outputs": [
    {
     "name": "stdout",
     "output_type": "stream",
     "text": [
      "800000\n"
     ]
    }
   ],
   "source": [
    "bin_edges = list(range(0,850000,50000))\n",
    "print(bin_edges[-1])"
   ]
  },
  {
   "cell_type": "code",
   "execution_count": 39,
   "metadata": {},
   "outputs": [
    {
     "name": "stderr",
     "output_type": "stream",
     "text": [
      "/home/red/my_project1_dir/my_project1_env/lib/python3.6/site-packages/ipykernel_launcher.py:12: UserWarning: FixedFormatter should only be used together with FixedLocator\n",
      "  if sys.path[0] == '':\n"
     ]
    },
    {
     "data": {
      "text/plain": [
       "Text(0.5, 1.0, 'Normalized distributions of credit limits by response variable')"
      ]
     },
     "execution_count": 39,
     "metadata": {},
     "output_type": "execute_result"
    },
    {
     "data": {
      "image/png": "[encoded data removed]",
      "text/plain": [
       "<Figure size 750x500 with 1 Axes>"
      ]
     },
     "metadata": {
      "needs_background": "light"
     },
     "output_type": "display_data"
    }
   ],
   "source": [
    "#same graph with different bins\n",
    "#figure.dpi gives the resolution of the dots\n",
    "#same graph with different bins\n",
    "#density=True is to normalize the histogram\n",
    "mpl.rcParams['figure.dpi'] = 125\n",
    "axes = plt.axes()\n",
    "axes.hist(df.loc[neg_mask, 'LIMIT_BAL'], bins=bin_edges, alpha=0.5, density=True, color='blue')\n",
    "axes.hist(df.loc[pos_mask, 'LIMIT_BAL'], bins=bin_edges, alpha=0.5, density=True, color='red')\n",
    "axes.tick_params(axis='x', labelrotation=45)\n",
    "axes.set_xlabel('Credit limit (NT$)')\n",
    "axes.set_ylabel('Proportion of accounts')\n",
    "y_ticks = axes.get_yticks()\n",
    "axes.set_yticklabels(np.round(y_ticks*50000,2))\n",
    "axes.legend(['Not defaulted', 'Defaulted'])\n",
    "axes.set_title('Normalized distributions of credit limits by response variable')"
   ]
  },
  {
   "cell_type": "code",
   "execution_count": 45,
   "metadata": {},
   "outputs": [
    {
     "name": "stdout",
     "output_type": "stream",
     "text": [
      "[-4.  -3.9 -3.8 -3.7 -3.6]\n",
      "[3.6 3.7 3.8 3.9 4. ]\n",
      "[0.01831564 0.02024191 0.02237077 0.02472353 0.02732372]\n"
     ]
    }
   ],
   "source": [
    "#to create an array of numbers using linspace\n",
    "#this linspace takes the starting and the end points to form an array\n",
    "#linspace works similar to that of range but this produces decimal points\n",
    "\n",
    "X_exp = np.linspace(-4,4,81)\n",
    "print(X_exp[:5])\n",
    "print(X_exp[-5:])\n",
    "#exp function is used to find the exponent of each value\n",
    "Y_exp = np.exp(X_exp)\n",
    "print(Y_exp[:5])"
   ]
  },
  {
   "cell_type": "code",
   "execution_count": 41,
   "metadata": {},
   "outputs": [
    {
     "data": {
      "text/plain": [
       "Text(0.5, 1.0, 'Plot of $e^X$')"
      ]
     },
     "execution_count": 41,
     "metadata": {},
     "output_type": "execute_result"
    },
    {
     "data": {
      "image/png": "[encoded data removed]",
      "text/plain": [
       "<Figure size 750x500 with 1 Axes>"
      ]
     },
     "metadata": {
      "needs_background": "light"
     },
     "output_type": "display_data"
    }
   ],
   "source": [
    "#here we are uisng the x_exp and y_exp that was created previously the plot of exponenetial funcation \n",
    "#between the values [-4,4]\n",
    "#we are plotting the exponential function\n",
    "\n",
    "plt.plot(X_exp, Y_exp)\n",
    "plt.title('Plot of $e^X$')\n",
    "#we can observe that as x increases y also slowly increases"
   ]
  },
  {
   "cell_type": "code",
   "execution_count": 42,
   "metadata": {},
   "outputs": [
    {
     "data": {
      "text/plain": [
       "Text(0.5, 1.0, 'Plot of $e^{-X}$')"
      ]
     },
     "execution_count": 42,
     "metadata": {},
     "output_type": "execute_result"
    },
    {
     "data": {
      "image/png": "[encoded data removed]",
      "text/plain": [
       "<Figure size 750x500 with 1 Axes>"
      ]
     },
     "metadata": {
      "needs_background": "light"
     },
     "output_type": "display_data"
    }
   ],
   "source": [
    "#plotting e-x which is the reflection of the ex above the y axis\n",
    "#here we are analysing with e-x\n",
    "Y_exp = np.exp(-X_exp)\n",
    "plt.plot(X_exp, Y_exp)\n",
    "plt.title('Plot of $e^{-X}$')"
   ]
  },
  {
   "cell_type": "code",
   "execution_count": 46,
   "metadata": {},
   "outputs": [],
   "source": [
    "#a sigmoid function is a mathematical function having a characterstic of S-SHAPED curve\n",
    "#logistic regression is the special case of the linear regression it predicts the value based using log function\n",
    "#sigmoid function is a function which takes any real value and mapps it between o to 1\n",
    "#the function is y=1/1+e^-z\n",
    "#if the value of z goes to positive infinity then the predicted valu of y will become 1\n",
    "#if it goes ti negative infinity then the prediction value will become 0\n",
    "#if the outcome of the sigmoid function is more than 0.5 then we classify the label at class 1 or positive class\n",
    "#if it is less than 0.5 then it belongs to negative class\n",
    "def sigmoid(X):\n",
    "    Y = 1 / (1 + np.exp(-X))\n",
    "    return Y"
   ]
  },
  {
   "cell_type": "code",
   "execution_count": 71,
   "metadata": {},
   "outputs": [
    {
     "data": {
      "text/plain": [
       "Text(0.5, 1.0, 'The sigmoid function')"
      ]
     },
     "execution_count": 71,
     "metadata": {},
     "output_type": "execute_result"
    },
    {
     "data": {
      "image/png": "[encoded data removed]",
      "text/plain": [
       "<Figure size 750x500 with 1 Axes>"
      ]
     },
     "metadata": {
      "needs_background": "light"
     },
     "output_type": "display_data"
    }
   ],
   "source": [
    "#we are creating the range of values in order to plot the sigmoid function for it\n",
    "X_sig = np.linspace(-7,7,141)\n",
    "Y_sig = sigmoid(X_sig)\n",
    "plt.plot(X_sig,Y_sig)\n",
    "plt.yticks(np.linspace(0,1,11))\n",
    "plt.grid()\n",
    "plt.title('The sigmoid function')\n"
   ]
  },
  {
   "cell_type": "code",
   "execution_count": 48,
   "metadata": {},
   "outputs": [
    {
     "data": {
      "text/html": [
       "<div>\n",
       "<style scoped>\n",
       "    .dataframe tbody tr th:only-of-type {\n",
       "        vertical-align: middle;\n",
       "    }\n",
       "\n",
       "    .dataframe tbody tr th {\n",
       "        vertical-align: top;\n",
       "    }\n",
       "\n",
       "    .dataframe thead th {\n",
       "        text-align: right;\n",
       "    }\n",
       "</style>\n",
       "<table border=\"1\" class=\"dataframe\">\n",
       "  <thead>\n",
       "    <tr style=\"text-align: right;\">\n",
       "      <th></th>\n",
       "      <th>default payment next month</th>\n",
       "    </tr>\n",
       "    <tr>\n",
       "      <th>PAY_1</th>\n",
       "      <th></th>\n",
       "    </tr>\n",
       "  </thead>\n",
       "  <tbody>\n",
       "    <tr>\n",
       "      <th>-2</th>\n",
       "      <td>0.131664</td>\n",
       "    </tr>\n",
       "    <tr>\n",
       "      <th>-1</th>\n",
       "      <td>0.170002</td>\n",
       "    </tr>\n",
       "    <tr>\n",
       "      <th>0</th>\n",
       "      <td>0.128295</td>\n",
       "    </tr>\n",
       "    <tr>\n",
       "      <th>1</th>\n",
       "      <td>0.336400</td>\n",
       "    </tr>\n",
       "    <tr>\n",
       "      <th>2</th>\n",
       "      <td>0.694701</td>\n",
       "    </tr>\n",
       "    <tr>\n",
       "      <th>3</th>\n",
       "      <td>0.773973</td>\n",
       "    </tr>\n",
       "    <tr>\n",
       "      <th>4</th>\n",
       "      <td>0.682540</td>\n",
       "    </tr>\n",
       "    <tr>\n",
       "      <th>5</th>\n",
       "      <td>0.434783</td>\n",
       "    </tr>\n",
       "    <tr>\n",
       "      <th>6</th>\n",
       "      <td>0.545455</td>\n",
       "    </tr>\n",
       "    <tr>\n",
       "      <th>7</th>\n",
       "      <td>0.777778</td>\n",
       "    </tr>\n",
       "    <tr>\n",
       "      <th>8</th>\n",
       "      <td>0.588235</td>\n",
       "    </tr>\n",
       "  </tbody>\n",
       "</table>\n",
       "</div>"
      ],
      "text/plain": [
       "       default payment next month\n",
       "PAY_1                            \n",
       "-2                       0.131664\n",
       "-1                       0.170002\n",
       " 0                       0.128295\n",
       " 1                       0.336400\n",
       " 2                       0.694701\n",
       " 3                       0.773973\n",
       " 4                       0.682540\n",
       " 5                       0.434783\n",
       " 6                       0.545455\n",
       " 7                       0.777778\n",
       " 8                       0.588235"
      ]
     },
     "execution_count": 48,
     "metadata": {},
     "output_type": "execute_result"
    }
   ],
   "source": [
    "group_by_pay_mean_y"
   ]
  },
  {
   "cell_type": "code",
   "execution_count": 72,
   "metadata": {},
   "outputs": [],
   "source": [
    "#logistic regression is linear in nature\n",
    "#because we are checking wether the features have a linear combination\n",
    "#now we are going to discover the appropriatness of the feature\n",
    "#we are going to determine the appropriatness of the pay_1 variable\n",
    "p = group_by_pay_mean_y['default payment next month'].values"
   ]
  },
  {
   "cell_type": "code",
   "execution_count": 73,
   "metadata": {},
   "outputs": [
    {
     "data": {
      "text/plain": [
       "array([0.13166397, 0.17000198, 0.12829525, 0.33639988, 0.69470143,\n",
       "       0.7739726 , 0.68253968, 0.43478261, 0.54545455, 0.77777778,\n",
       "       0.58823529])"
      ]
     },
     "execution_count": 73,
     "metadata": {},
     "output_type": "execute_result"
    }
   ],
   "source": [
    "p"
   ]
  },
  {
   "cell_type": "code",
   "execution_count": 51,
   "metadata": {},
   "outputs": [
    {
     "name": "stdout",
     "output_type": "stream",
     "text": [
      "[0.13166397 0.17000198 0.12829525 0.33639988 0.69470143 0.7739726\n",
      " 0.68253968 0.43478261 0.54545455 0.77777778 0.58823529]\n",
      "[0.86833603 0.82999802 0.87170475 0.66360012 0.30529857 0.2260274\n",
      " 0.31746032 0.56521739 0.45454545 0.22222222 0.41176471]\n"
     ]
    }
   ],
   "source": [
    "q = 1-p\n",
    "print(p)\n",
    "print(q)"
   ]
  },
  {
   "cell_type": "code",
   "execution_count": 52,
   "metadata": {},
   "outputs": [
    {
     "data": {
      "text/plain": [
       "array([-1.88632574, -1.58561322, -1.91611649, -0.67937918,  0.82219194,\n",
       "        1.23088026,  0.76546784, -0.26236426,  0.18232156,  1.25276297,\n",
       "        0.35667494])"
      ]
     },
     "execution_count": 52,
     "metadata": {},
     "output_type": "execute_result"
    }
   ],
   "source": [
    "#we are finfing the natural log of the values\n",
    "odds_ratio = p/q\n",
    "log_odds = np.log(odds_ratio)\n",
    "log_odds"
   ]
  },
  {
   "cell_type": "code",
   "execution_count": 53,
   "metadata": {},
   "outputs": [
    {
     "data": {
      "text/plain": [
       "Int64Index([-2, -1, 0, 1, 2, 3, 4, 5, 6, 7, 8], dtype='int64', name='PAY_1')"
      ]
     },
     "execution_count": 53,
     "metadata": {},
     "output_type": "execute_result"
    }
   ],
   "source": [
    "group_by_pay_mean_y.index"
   ]
  },
  {
   "cell_type": "code",
   "execution_count": 75,
   "metadata": {},
   "outputs": [
    {
     "data": {
      "text/plain": [
       "Text(0.5, 0, 'Values of PAY_1')"
      ]
     },
     "execution_count": 75,
     "metadata": {},
     "output_type": "execute_result"
    },
    {
     "data": {
      "image/png": "[encoded data removed]",
      "text/plain": [
       "<Figure size 750x500 with 1 Axes>"
      ]
     },
     "metadata": {
      "needs_background": "light"
     },
     "output_type": "display_data"
    }
   ],
   "source": [
    "#plotting the plot btw group_by_mean_y and log_odds\n",
    "#it is used to determine the linearity\n",
    "plt.plot(group_by_pay_mean_y.index, log_odds, '-x')\n",
    "plt.ylabel('Log odds of default')\n",
    "plt.xlabel('Values of PAY_1')"
   ]
  },
  {
   "cell_type": "code",
   "execution_count": 77,
   "metadata": {},
   "outputs": [
    {
     "name": "stdout",
     "output_type": "stream",
     "text": [
      "[[6.35716091]\n",
      " [2.99187883]\n",
      " [5.92737474]]\n",
      "[[3.38132155]\n",
      " [8.03046066]\n",
      " [8.61519394]]\n",
      "[[6.35716091]\n",
      " [2.99187883]\n",
      " [5.92737474]]\n",
      "[[3.38132155]\n",
      " [8.03046066]\n",
      " [8.61519394]]\n"
     ]
    }
   ],
   "source": [
    "#linear decision boundary of logistic regression\n",
    "#we generate the data using uniform function between the values\n",
    "np.random.seed(seed=6)\n",
    "X_1_pos = np.random.uniform(low=1, high=7, size=(20,1))\n",
    "print(X_1_pos[0:3])\n",
    "X_1_neg = np.random.uniform(low=3, high=10, size=(20,1))\n",
    "print(X_1_neg[0:3])\n",
    "X_2_pos = np.random.uniform(low=1, high=7, size=(20,1))\n",
    "print(X_1_pos[0:3])\n",
    "X_2_neg = np.random.uniform(low=3, high=10, size=(20,1))\n",
    "print(X_1_neg[0:3])"
   ]
  },
  {
   "cell_type": "code",
   "execution_count": 56,
   "metadata": {},
   "outputs": [
    {
     "data": {
      "text/plain": [
       "<matplotlib.legend.Legend at 0x7ff786be9320>"
      ]
     },
     "execution_count": 56,
     "metadata": {},
     "output_type": "execute_result"
    },
    {
     "data": {
      "image/png": "[encoded data removed]",
      "text/plain": [
       "<Figure size 750x500 with 1 Axes>"
      ]
     },
     "metadata": {
      "needs_background": "light"
     },
     "output_type": "display_data"
    }
   ],
   "source": [
    "#scatter plot for the synthetic data that was generated\n",
    "plt.scatter(X_1_pos, X_2_pos, color='red', marker='x')\n",
    "plt.scatter(X_1_neg, X_2_neg, color='blue', marker='x')\n",
    "plt.xlabel('$X_1$')\n",
    "plt.ylabel('$X_2$')\n",
    "plt.legend(['Positive class', 'Negative class'])"
   ]
  },
  {
   "cell_type": "code",
   "execution_count": 57,
   "metadata": {},
   "outputs": [
    {
     "name": "stdout",
     "output_type": "stream",
     "text": [
      "(40, 2)\n",
      "[[6.35716091 5.4790643 ]\n",
      " [2.99187883 5.3444234 ]\n",
      " [5.92737474 3.43664678]]\n"
     ]
    }
   ],
   "source": [
    "X = np.block([[X_1_pos, X_2_pos], [X_1_neg, X_2_neg]])\n",
    "print(X.shape)\n",
    "print(X[0:3])"
   ]
  },
  {
   "cell_type": "code",
   "execution_count": 58,
   "metadata": {},
   "outputs": [
    {
     "name": "stdout",
     "output_type": "stream",
     "text": [
      "[1. 1. 1. 1. 1.]\n",
      "[0. 0. 0. 0. 0.]\n"
     ]
    }
   ],
   "source": [
    "y = np.vstack((np.ones((20,1)), np.zeros((20,1)))).reshape(40,)\n",
    "print(y[0:5])\n",
    "print(y[-5:])"
   ]
  },
  {
   "cell_type": "code",
   "execution_count": 78,
   "metadata": {},
   "outputs": [
    {
     "data": {
      "text/plain": [
       "((21331, 2), (21331,), (5333, 2), (5333,))"
      ]
     },
     "execution_count": 78,
     "metadata": {},
     "output_type": "execute_result"
    }
   ],
   "source": [
    "#in previous task we used only education varaible perform thr logistic regression\n",
    "#now pay_1 and limit_bal which is proven to be the best features by pearson correlation and ANOVA F-tesr\n",
    "\n",
    "from sklearn.model_selection import train_test_split\n",
    "X = df[['PAY_1', 'LIMIT_BAL']]\n",
    "y = df['default payment next month']\n",
    "\n",
    "X_train, X_test, y_train, y_test = train_test_split(X, y, test_size = 0.2, random_state = 24)\n",
    "\n",
    "X_train.shape, y_train.shape, X_test.shape, y_test.shape"
   ]
  },
  {
   "cell_type": "code",
   "execution_count": 79,
   "metadata": {},
   "outputs": [],
   "source": [
    "from sklearn.linear_model import LogisticRegression"
   ]
  },
  {
   "cell_type": "code",
   "execution_count": 81,
   "metadata": {},
   "outputs": [],
   "source": [
    "#liblinear is the linear classifier for data with millions of instances and features\n",
    "lr_model = LogisticRegression(solver = 'liblinear')"
   ]
  },
  {
   "cell_type": "code",
   "execution_count": 82,
   "metadata": {},
   "outputs": [
    {
     "data": {
      "text/plain": [
       "LogisticRegression(solver='liblinear')"
      ]
     },
     "execution_count": 82,
     "metadata": {},
     "output_type": "execute_result"
    }
   ],
   "source": [
    "lr_model.fit(X_train, y_train)"
   ]
  },
  {
   "cell_type": "code",
   "execution_count": 83,
   "metadata": {},
   "outputs": [
    {
     "data": {
      "text/plain": [
       "array([0, 0, 0, 0, 0])"
      ]
     },
     "execution_count": 83,
     "metadata": {},
     "output_type": "execute_result"
    }
   ],
   "source": [
    "y_pred = lr_model.predict(X_test)\n",
    "y_pred[:5]"
   ]
  },
  {
   "cell_type": "code",
   "execution_count": 84,
   "metadata": {},
   "outputs": [
    {
     "data": {
      "text/plain": [
       "array([[0.74826924, 0.25173076],\n",
       "       [0.584297  , 0.415703  ],\n",
       "       [0.79604453, 0.20395547],\n",
       "       ...,\n",
       "       [0.584297  , 0.415703  ],\n",
       "       [0.82721498, 0.17278502],\n",
       "       [0.66393435, 0.33606565]])"
      ]
     },
     "execution_count": 84,
     "metadata": {},
     "output_type": "execute_result"
    }
   ],
   "source": [
    "y_proba = lr_model.predict_proba(X_test)\n",
    "y_proba"
   ]
  },
  {
   "cell_type": "code",
   "execution_count": 65,
   "metadata": {},
   "outputs": [],
   "source": [
    "coef = lr_model.coef_\n",
    "intercept = lr_model.intercept_"
   ]
  },
  {
   "cell_type": "code",
   "execution_count": 85,
   "metadata": {},
   "outputs": [
    {
     "data": {
      "text/plain": [
       "array([[0.5       , 0.25173076],\n",
       "       [0.5       , 0.415703  ],\n",
       "       [0.5       , 0.20395547],\n",
       "       ...,\n",
       "       [0.5       , 0.415703  ],\n",
       "       [0.5       , 0.17278502],\n",
       "       [0.5       , 0.33606565]])"
      ]
     },
     "execution_count": 85,
     "metadata": {},
     "output_type": "execute_result"
    }
   ],
   "source": [
    "#applying the sigmoid function\n",
    "manual_y_proba = sigmoid((coef * X_test.values) + intercept)\n",
    "manual_y_proba"
   ]
  },
  {
   "cell_type": "code",
   "execution_count": 67,
   "metadata": {},
   "outputs": [
    {
     "data": {
      "text/plain": [
       "array([0, 0, 0, ..., 0, 0, 0])"
      ]
     },
     "execution_count": 67,
     "metadata": {},
     "output_type": "execute_result"
    }
   ],
   "source": [
    "threshold = 0.5\n",
    "manual_y_pred = []\n",
    "\n",
    "for i in manual_y_proba[:, 1]:\n",
    "    if i >= threshold:\n",
    "        manual_y_pred.append(1)\n",
    "    else:\n",
    "        manual_y_pred.append(0)\n",
    "\n",
    "manual_y_pred = np.asarray(manual_y_pred)        \n",
    "\n",
    "manual_y_pred"
   ]
  },
  {
   "cell_type": "code",
   "execution_count": 68,
   "metadata": {},
   "outputs": [
    {
     "name": "stdout",
     "output_type": "stream",
     "text": [
      "Positives = 0 and Negatives = 5333 are predicted classes.\n",
      "Positives = 0 and Negatives = 5333 are maually predicted classes.\n"
     ]
    }
   ],
   "source": [
    "pos = y_pred == 1\n",
    "neg = y_pred == 0\n",
    "manual_pos = manual_y_pred == 1\n",
    "manual_neg = manual_y_pred == 0\n",
    "print(f\"Positives = {sum(pos)} and Negatives = {sum(neg)} are predicted classes.\")\n",
    "print(f\"Positives = {sum(manual_pos)} and Negatives = {sum(manual_neg)} are maually predicted classes.\")"
   ]
  },
  {
   "cell_type": "code",
   "execution_count": 69,
   "metadata": {},
   "outputs": [
    {
     "name": "stdout",
     "output_type": "stream",
     "text": [
      "ROC AUC Score for predicted probabilities: 0.627207450280691\n"
     ]
    }
   ],
   "source": [
    "# Use scikit-learn's predicted probabilities to calculate ROC AUC\n",
    "from sklearn import metrics\n",
    "\n",
    "print(f\"ROC AUC Score for predicted probabilities: {metrics.roc_auc_score(y_test, y_proba[:, 1])}\")"
   ]
  },
  {
   "cell_type": "code",
   "execution_count": 86,
   "metadata": {},
   "outputs": [
    {
     "name": "stdout",
     "output_type": "stream",
     "text": [
      "ROC AUC Score for manually predicted probabilities: 0.6201990844642832\n"
     ]
    }
   ],
   "source": [
    "#calculating the roc_auc_score\n",
    "print(f\"ROC AUC Score for manually predicted probabilities: {metrics.roc_auc_score(y_test, manual_y_proba[:, 1])}\")"
   ]
  },
  {
   "cell_type": "code",
   "execution_count": null,
   "metadata": {},
   "outputs": [],
   "source": []
  }
 ],
 "metadata": {
  "kernelspec": {
   "display_name": "Python 3",
   "language": "python",
   "name": "python3"
  },
  "language_info": {
   "codemirror_mode": {
    "name": "ipython",
    "version": 3
   },
   "file_extension": ".py",
   "mimetype": "text/x-python",
   "name": "python",
   "nbconvert_exporter": "python",
   "pygments_lexer": "ipython3",
   "version": "3.6.9"
  }
 },
 "nbformat": 4,
 "nbformat_minor": 4
}
